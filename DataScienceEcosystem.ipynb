{
 "cells": [
  {
   "cell_type": "markdown",
   "id": "737c4ec0",
   "metadata": {},
   "source": [
    "# Data Science Tools and Ecosystem"
   ]
  },
  {
   "cell_type": "markdown",
   "id": "a65928fc",
   "metadata": {},
   "source": [
    "# Data Science Tools and Ecosystem"
   ]
  },
  {
   "cell_type": "markdown",
   "id": "b5db602e",
   "metadata": {},
   "source": [
    "In this notebook, Data Science Tools and Ecosystem are summarized."
   ]
  },
  {
   "cell_type": "markdown",
   "id": "aedb0495",
   "metadata": {},
   "source": [
    "In this notebook, Data Science Tools and Ecosystem are summarized."
   ]
  },
  {
   "cell_type": "markdown",
   "id": "eb755997",
   "metadata": {},
   "source": [
    "Some of the popular languages that Data Scientists use are:\n",
    "1. Python\n",
    "2. R\n",
    "3. SQL\n",
    "4. Julia\n",
    "5. Scala\n",
    "6. MATLAB\n"
   ]
  },
  {
   "cell_type": "markdown",
   "id": "6c892cb0",
   "metadata": {},
   "source": [
    "Some of the popular languages that Data Scientists use are:\n",
    "1. Python\n",
    "2. R\n",
    "3. SQL\n",
    "4. Julia\n",
    "5. Scala\n",
    "6. MATLAB"
   ]
  },
  {
   "cell_type": "markdown",
   "id": "5bb81958",
   "metadata": {},
   "source": [
    "Some of the commonly used libraries used by Data Scientists include:\n",
    "\n",
    "1. NumPy\n",
    "2. Pandas\n",
    "3. Matplotlib\n",
    "4. scikit-learn\n",
    "5. TensorFlow\n",
    "6. Keras\n",
    "7. PyTorch\n",
    "8. StatsModels\n",
    "9. Seaborn\n",
    "10. Plotly\n",
    "\n",
    "\n",
    "\n",
    "  \n"
   ]
  },
  {
   "cell_type": "markdown",
   "id": "b21ab5cf",
   "metadata": {},
   "source": [
    "Some of the commonly used libraries used by Data Scientists include:\n",
    "\n",
    "1. NumPy\n",
    "2. Pandas\n",
    "3. Matplotlib\n",
    "4. scikit-learn\n",
    "5. TensorFlow\n",
    "6. Keras\n",
    "7. PyTorch\n",
    "8. StatsModels\n",
    "9. Seaborn\n",
    "10. Plotly\n"
   ]
  },
  {
   "cell_type": "markdown",
   "id": "6d7e264a",
   "metadata": {},
   "source": [
    "\n",
    "| Data Science Tools |\n",
    "|--------------------|\n",
    "| Jupyter Notebook   |\n",
    "| RStudio            |\n",
    "| Apache Hadoop      |\n",
    "| Apache Spark       |\n",
    "| Tableau            |\n",
    "| KNIME              |\n",
    "| SAS                |\n",
    "| Excel              |\n",
    "| RapidMiner         |\n",
    "| IBM Watson         |\n"
   ]
  },
  {
   "cell_type": "markdown",
   "id": "713aa1d1",
   "metadata": {},
   "source": [
    "| Data Science Tools |\n",
    "|--------------------|\n",
    "| Jupyter Notebook   |\n",
    "| RStudio            |\n",
    "| Apache Hadoop      |\n",
    "| Apache Spark       |\n",
    "| Tableau            |\n",
    "| KNIME              |\n",
    "| SAS                |\n",
    "| Excel              |\n",
    "| RapidMiner         |\n",
    "| IBM Watson         |\n"
   ]
  },
  {
   "cell_type": "markdown",
   "id": "ab32bb50",
   "metadata": {},
   "source": [
    "### Below are a few examples of evaluating arithmetic expressions in Python."
   ]
  },
  {
   "cell_type": "markdown",
   "id": "9e6b59de",
   "metadata": {},
   "source": [
    "### Below are a few examples of evaluating arithmetic expressions in Python."
   ]
  },
  {
   "cell_type": "code",
   "execution_count": 5,
   "id": "10580b50",
   "metadata": {},
   "outputs": [
    {
     "data": {
      "text/plain": [
       "17"
      ]
     },
     "execution_count": 5,
     "metadata": {},
     "output_type": "execute_result"
    }
   ],
   "source": [
    "# This is a simple arithmetic expression to multiply then add integers\n",
    "(3 * 4) + 5\n",
    "\n"
   ]
  },
  {
   "cell_type": "code",
   "execution_count": 6,
   "id": "9db82de8",
   "metadata": {},
   "outputs": [
    {
     "data": {
      "text/plain": [
       "3.3333333333333335"
      ]
     },
     "execution_count": 6,
     "metadata": {},
     "output_type": "execute_result"
    }
   ],
   "source": [
    "# This will convert 200 minutes to hours by dividing by 60\n",
    "minutes = 200\n",
    "hours = minutes / 60\n",
    "hours\n"
   ]
  },
  {
   "cell_type": "markdown",
   "id": "e30e082c",
   "metadata": {},
   "source": [
    "**Objectives:**\n",
    "\n",
    "- List popular languages for Data Science\n",
    "- Demonstrate evaluation of arithmetic expressions\n",
    "- Convert minutes to hours in mixed fraction format\n",
    "- Introduce Jupyter Notebooks and their usage\n",
    "- Explore the key features and benefits of Jupyter Notebooks\n"
   ]
  },
  {
   "cell_type": "markdown",
   "id": "0f96440c",
   "metadata": {},
   "source": [
    "**Objectives:**\n",
    "\n",
    "- List popular languages for Data Science\n",
    "- Demonstrate evaluation of arithmetic expressions\n",
    "- Convert minutes to hours in mixed fraction format\n",
    "- Introduce Jupyter Notebooks and their usage\n",
    "- Explore the key features and benefits of Jupyter Notebooks\n"
   ]
  },
  {
   "cell_type": "markdown",
   "id": "6c769b84",
   "metadata": {},
   "source": [
    "## Author\n",
    "\n",
    "Krishnan Unni M\n"
   ]
  },
  {
   "cell_type": "markdown",
   "id": "dd0636e8",
   "metadata": {},
   "source": [
    "## Author\n",
    "\n",
    "Krishnan Unni M\n"
   ]
  },
  {
   "cell_type": "code",
   "execution_count": null,
   "id": "8aa5d640",
   "metadata": {},
   "outputs": [],
   "source": []
  }
 ],
 "metadata": {
  "kernelspec": {
   "display_name": "Python 3 (ipykernel)",
   "language": "python",
   "name": "python3"
  },
  "language_info": {
   "codemirror_mode": {
    "name": "ipython",
    "version": 3
   },
   "file_extension": ".py",
   "mimetype": "text/x-python",
   "name": "python",
   "nbconvert_exporter": "python",
   "pygments_lexer": "ipython3",
   "version": "3.10.9"
  }
 },
 "nbformat": 4,
 "nbformat_minor": 5
}
